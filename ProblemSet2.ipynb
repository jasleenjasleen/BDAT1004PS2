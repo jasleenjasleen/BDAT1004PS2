{
 "cells": [
  {
   "cell_type": "markdown",
   "metadata": {},
   "source": [
    "# Question 1\n",
    "Consider the following Python module:\n",
    "a = 0\n",
    "def b():\n",
    " global a\n",
    " a = c(a)\n",
    "def c(a):\n",
    " return a + 2\n",
    "After importing the module into the interpreter, you execute:\n",
    "\n",
    "b()\n",
    "\n",
    "b()\n",
    "\n",
    "b()\n",
    "\n",
    "a\n",
    "\n",
    "?\n",
    "\n",
    "What value is displayed when the last expression (a) is evaluated? Explain your answer by indicating what happens in every executed statement.\n"
   ]
  },
  {
   "cell_type": "code",
   "execution_count": 111,
   "metadata": {},
   "outputs": [],
   "source": [
    "a = 0            #a is assigned 0  \n",
    "def b():         #defining function b\n",
    " global a      #declaring a as global variable for values in function b\n",
    " a = c(a)      \n",
    "def c(a):          # defining c funtion and \n",
    " return a + 2          # adding 2 to a"
   ]
  },
  {
   "cell_type": "code",
   "execution_count": 112,
   "metadata": {},
   "outputs": [],
   "source": [
    "b()      #after calling the function b first time the a is assigned as value 2"
   ]
  },
  {
   "cell_type": "code",
   "execution_count": 108,
   "metadata": {},
   "outputs": [],
   "source": [
    "b()        #again after calling the funtion b, the a is added with 2 i.e., a + 2 = 2+2 = 4"
   ]
  },
  {
   "cell_type": "code",
   "execution_count": 109,
   "metadata": {},
   "outputs": [],
   "source": [
    "b()    #again the same loop repeats and when function b is called the new value of a is a + 2 = 4+2 = 6"
   ]
  },
  {
   "cell_type": "code",
   "execution_count": 110,
   "metadata": {},
   "outputs": [
    {
     "data": {
      "text/plain": [
       "6"
      ]
     },
     "execution_count": 110,
     "metadata": {},
     "output_type": "execute_result"
    }
   ],
   "source": [
    "a        #when we called funtion a the latest value contained in a i.e., 6 will be printed as output"
   ]
  },
  {
   "cell_type": "markdown",
   "metadata": {},
   "source": [
    "## Question 2\n",
    "\n",
    "Function fileLength(), given to you, takes the name of a file as input and returns the length of the file:\n",
    "\n",
    "fileLength('midterm.py')\n",
    "284\n",
    "\n",
    "fileLength('idterm.py')\n",
    "Traceback (most recent call last):\n",
    "File \"<pyshell#34>\", line 1, in <module>\n",
    " fileLength('idterm.py')\n",
    "File \"/Users/me/midterm.py\", line 3, in fileLength\n",
    " infile = open(filename)\n",
    "FileNotFoundError: [Errno 2] No such file or directory:\n",
    "'idterm.py'\n",
    "\n",
    "As shown above, if the file cannot be found by the interpreter or if it cannot be read as a text file, an exception will be raised. Modify function fileLength() so that a friendly message is printed instead:\n",
    "\n",
    "fileLength('midterm.py')\n",
    "358\n",
    "\n",
    "fileLength('idterm.py')\n",
    "File idterm.py not found.\n"
   ]
  },
  {
   "cell_type": "code",
   "execution_count": 113,
   "metadata": {},
   "outputs": [],
   "source": [
    "\n",
    "def fileLength(file):\n",
    "    \n",
    "    try:                          # looks for the file and returns the length if found\n",
    "        inputfile = open(file)          #opening file\n",
    "        readfile = inputfile.read()         #reading the file\n",
    "        inputfile.close()                #closing the ile\n",
    "        return len(readfile)\n",
    "    \n",
    "    except:                       # if file doesnt exist then it will print the error stating \"file can not be found\"\n",
    "        print('File {} not found.'.format(file))\n",
    "        \n",
    "        \n",
    "    "
   ]
  },
  {
   "cell_type": "code",
   "execution_count": 114,
   "metadata": {},
   "outputs": [
    {
     "name": "stdout",
     "output_type": "stream",
     "text": [
      "File File.ipynb not found.\n"
     ]
    }
   ],
   "source": [
    "fileLength('File.ipynb')"
   ]
  },
  {
   "cell_type": "code",
   "execution_count": 115,
   "metadata": {},
   "outputs": [
    {
     "name": "stdout",
     "output_type": "stream",
     "text": [
      "File Fil.ipynb not found.\n"
     ]
    }
   ],
   "source": [
    "fileLength('Fil.ipynb')"
   ]
  },
  {
   "cell_type": "markdown",
   "metadata": {},
   "source": [
    "## question 3\n",
    "Write a class named Marsupial that can be used as shown below:\n",
    "\n",
    "m = Marsupial() \n",
    "m.put_in_pouch('doll')\n",
    "m.put_in_pouch('firetruck') \n",
    "m.put_in_pouch('kitten') \n",
    "m.pouch_contents()\n",
    "\n",
    "['doll', 'firetruck', 'kitten']\n",
    "\n",
    "Now write a class named Kangaroo as a subclass of Marsupial that inherits all the attributes of Marsupial and also:\n",
    "a. extends the Marsupial __init__ constructor to take, as input, the coordinates x and y of the Kangaroo object,\n",
    "b. supports method jump that takes number values dx and dy as input and moves the kangaroo by dx units along the x-axis and by dy units along the yaxis, and\n",
    "c. overloads the __str__ operator so it behaves as shown below.\n",
    "\n",
    "k = Kangaroo(0,0)\n",
    "print(k)\n",
    "\n",
    "I am a Kangaroo located at coordinates (0,0)\n",
    "\n",
    "k.put_in_pouch('doll')\n",
    "\n",
    "k.put_in_pouch('firetruck')\n",
    "\n",
    "k.put_in_pouch('kitten')\n",
    "\n",
    "k.pouch_contents()\n",
    "\n",
    "['doll', 'firetruck', 'kitten']\n",
    "\n",
    "k.jump(1,0)\n",
    "\n",
    "k.jump(1,0)\n",
    "\n",
    "k.jump(1,0)\n",
    "\n",
    "print(k)\n",
    "\n",
    "I am a Kangaroo located at coordinates (3,0)\n"
   ]
  },
  {
   "cell_type": "code",
   "execution_count": 116,
   "metadata": {},
   "outputs": [],
   "source": [
    "class Marsupial:                        #Marsupial parent class\n",
    "    \n",
    "    def __init__(self,x,y):             #defining constructor to take input x and y variables of parent class\n",
    "        self.pouch=[]                   #creating empty list\n",
    "        \n",
    "        \n",
    "    def put_in_pouch(self,items):        #items appended to the empty self.pouch() list\n",
    "        self.pouch.append(items)\n",
    "        \n",
    "    def pouch_contents(self):           #defining and displaying all the items added in self.pouch() list\n",
    "        return self.pouch\n",
    "\n",
    "class Kangaroo(Marsupial):              #creating sub-class Kangaroo of parent class\n",
    "    def __init__(self,x,y):              \n",
    "        super().__init__(x,y)          #extending Marsupial constructor to take coordinates x and y both \n",
    "        self.dx = 0                      \n",
    "        self.dy = 0                       #setting x and y coordinates \n",
    "    \n",
    "    def jump(self,x,y):                 \n",
    "        self.dx = self.dx + x               #defining jump function to jump the coordinates of Kangaroo as per input \n",
    "        self.dy = self.dy + y\n",
    "    \n",
    "    def __str__(self):                                                        #overload the _str_ operator \n",
    "        \n",
    "        return ('I am a Kangaroo located at coordinates({},{})'.format(self.dx,self.dy))\n",
    "        \n",
    "            \n"
   ]
  },
  {
   "cell_type": "code",
   "execution_count": 117,
   "metadata": {},
   "outputs": [
    {
     "name": "stdout",
     "output_type": "stream",
     "text": [
      "contents in the list are\n",
      "['doll', 'firetruck', 'kitten']\n"
     ]
    }
   ],
   "source": [
    "k = Kangaroo(0,0)\n",
    "k.put_in_pouch('doll')\n",
    "k.put_in_pouch('firetruck')\n",
    "k.put_in_pouch('kitten')\n",
    "k.pouch_contents()\n",
    "print(\"contents in the list are\")\n",
    "print(k.pouch)                        #printing the content in the pouch list\n"
   ]
  },
  {
   "cell_type": "code",
   "execution_count": 118,
   "metadata": {},
   "outputs": [
    {
     "name": "stdout",
     "output_type": "stream",
     "text": [
      "I am a Kangaroo located at coordinates(3,0)\n"
     ]
    }
   ],
   "source": [
    "k.jump(1,0)\n",
    "k.jump(1,0)\n",
    "k.jump(1,0)\n",
    "print(k)"
   ]
  },
  {
   "cell_type": "markdown",
   "metadata": {},
   "source": [
    "# question 4\n",
    "\n",
    "Implement a new GUI class App that combines user-defined tkinter widget classes Calculator and Mortgage displayed below: \n",
    "(This question can be done using a .py file)\n",
    "\n",
    "Attached the question 4 .py file and output in the separate doc.\n"
   ]
  },
  {
   "cell_type": "markdown",
   "metadata": {},
   "source": [
    "# Question 5 \n",
    "Write function collatz() that takes a positive integer x as input and prints the Collatz sequence starting at x. A Collatz sequence is obtained by repeatedly applying this rule to the previous number x in the sequence:\n",
    "\n",
    "x =   { 𝑥/2 𝑖𝑓 𝑥 𝑖𝑠 𝑒𝑣𝑒𝑛;\n",
    "\n",
    "     3𝑥 + 1 𝑖𝑓 𝑥 𝑖𝑠 𝑜𝑑d\n",
    "      \n",
    "\n",
    "Your function should stop when the sequence gets to number 1. Your implementation must be recursive, without any loops.\n",
    "\n",
    "collatz(1)\n",
    "1\n",
    "\n",
    "collatz(10)\n",
    "10\n",
    "\n",
    "5\n",
    "\n",
    "16\n",
    "\n",
    "8\n",
    "\n",
    "4\n",
    "\n",
    "2\n",
    "\n",
    "1\n"
   ]
  },
  {
   "cell_type": "code",
   "execution_count": 128,
   "metadata": {},
   "outputs": [
    {
     "name": "stdout",
     "output_type": "stream",
     "text": [
      "collatz sequence of 1 is \n",
      "1\n",
      "collatz sequence of 10 is \n",
      "10\n",
      "5\n",
      "16\n",
      "8\n",
      "4\n",
      "2\n",
      "1\n"
     ]
    }
   ],
   "source": [
    "def collatz(number):\n",
    "    \n",
    "    print('collatz sequence of {} is '.format(number))\n",
    "    print(number)\n",
    "    \n",
    "    while number!= 1:\n",
    "        \n",
    "        if number%2 == 0:\n",
    "            number = number//2\n",
    "            print(number)\n",
    "            \n",
    "        else:\n",
    "                number = (3*number) + 1\n",
    "                print(number)\n",
    "                \n",
    "collatz(1)\n",
    "collatz(10)"
   ]
  },
  {
   "cell_type": "markdown",
   "metadata": {},
   "source": [
    "## question 6\n",
    "Write a recursive method binary() that takes a non-negative integer n and prints the binary representation of integer n.\n",
    "\n",
    "binary(0) = 0\n",
    "\n",
    "binary(1) = 1\n",
    "\n",
    "binary(3) = 11\n",
    "\n",
    "binary(9) = 1001\n"
   ]
  },
  {
   "cell_type": "code",
   "execution_count": 119,
   "metadata": {},
   "outputs": [
    {
     "name": "stdout",
     "output_type": "stream",
     "text": [
      "Binary representation of 0 is\n",
      "0\n",
      "Binary representation of 1 is\n",
      "1\n",
      "Binary representation of 3 is\n",
      "11\n",
      "Binary representation of 9 is\n",
      "1001\n"
     ]
    }
   ],
   "source": [
    "\n",
    "def binary(integer):         #defining binary method which takes non-negative integet\n",
    "    \n",
    "    print(\"Binary representation of {} is\".format(integer))\n",
    "    \n",
    "    if(integer >= 0):                            #if integer is 0 or more then print integer in binary form\n",
    "        print(format(integer,\"b\"))          \n",
    "    \n",
    "    else:\n",
    "        return 'number is negative or 0'                 #else print that the number is negative or zero.\n",
    "    \n",
    "\n",
    "binary(0)\n",
    "binary(1)\n",
    "binary(3)\n",
    "binary(9)"
   ]
  },
  {
   "cell_type": "markdown",
   "metadata": {},
   "source": [
    "## question 7\n",
    "Implement a class named HeadingParser that can be used to parse an HTML document, and retrieve and print all the headings in the document. You should implement your class as a subclass of HTMLParser, defined in Standard Library module html.parser. When fed a string containing HTML code, your class should print the headings, one per line and in the order in which they appear in the document. Each heading should be indented as follows: an h1 heading should have indentation 0, and h2 heading should have indentation 1, etc. Test your implementation using w3c.html.\n",
    "\n",
    "infile = open('w3c.html')\n",
    "\n",
    "content = infile.read()\n",
    "\n",
    "infile.close()\n",
    "\n",
    "hp = HeadingParser()\n",
    "\n",
    "hp.feed(content)\n",
    "\n",
    "W3C Mission\n",
    "\n",
    "Principles\n",
    "\n"
   ]
  },
  {
   "cell_type": "code",
   "execution_count": 120,
   "metadata": {},
   "outputs": [
    {
     "name": "stdout",
     "output_type": "stream",
     "text": [
      "  W3C Mission \n",
      "  Principles \n"
     ]
    }
   ],
   "source": [
    "from html.parser import HTMLParser            #defining library module html.parser and importing library\n",
    "\n",
    "f = open(r'C:\\Users\\16479\\Desktop\\w3c.html')            #opening and reading the html file\n",
    "a=str(f.read())\n",
    "\n",
    "class HeadingParser(HTMLParser):         #defining HeadingParser class as subclass of HTMLParser\n",
    "  \n",
    "    def __init__(self):                    #object instance\n",
    "        HTMLParser.__init__(self)\n",
    "        self.flag = 0 \n",
    "    \n",
    "    def handle_starttag(self, tag, attrs):                     #defining start function\n",
    "        \n",
    "        if tag == 'h1' or tag == 'h2' or tag == 'h3' or tag == 'h4' or tag=='h5' or tag == 'h6' or tag == 'h7':\n",
    "            self.flag += 1                                     #checking html file tags for headings and setting flag to 1\n",
    "        else:\n",
    "            self.flag = 0\n",
    "            \n",
    "    def handle_data(self, data):            #defining function to print the heading of html\n",
    "        if self.flag and data!='\\n':\n",
    "            \n",
    "            print('{} {} '.format(self.flag*' ', data))\n",
    "\n",
    "\n",
    "parser = HeadingParser()                            #calling the class HeadingParser\n",
    "parser.feed(a)"
   ]
  },
  {
   "cell_type": "markdown",
   "metadata": {},
   "source": [
    "## question 9\n",
    "Write SQL queries on the below database table that return:\n",
    "\n",
    "a) All the temperature data.\n",
    "\n",
    "b) All the cities, but without repetition.\n",
    "\n",
    "c) All the records for India.\n",
    "\n",
    "d) All the Fall records.\n",
    "\n",
    "e) The city, country, and season for which the average rainfall is between 200 and 400 millimeters.\n",
    "\n",
    "f) The city and country for which the average Fall temperature is above 20 degrees, in increasing temperature order.\n",
    "\n",
    "g) The total annual rainfall for Cairo.\n",
    "\n",
    "h) The total rainfall for each season.\n",
    "\n",
    "|City  | Country       | Season | Temperature (C) | Rainfall (mm) |\n",
    "|----- |---------------|--------|-----------------|---------------|\n",
    "|Mumbai|India          |Winter  |24.8             |5.9            |          \n",
    "|Mumbai|India          |Spring  |28.4             |16.2           |\n",
    "|Mumbai|India          |Summer  |27.9             |1549.4         |\n",
    "|Mumbai|India          |Fall    |27.6             |346.0          |\n",
    "|London|United Kingdom |Winter  |4.2              |207.7          |\n",
    "|London|United Kingdom |Spring  |8.3              |169.6          |\n",
    "|London|United Kingdom |Summer  |15.7             |157.0          |\n",
    "|London|United Kingdom | Fall   |10.4             |218.5          |\n",
    "|Cairo |Egypt          |Winter  |13.6             |16.5           |\n",
    "|Cairo |Egypt          |Spring  |20.7             |6.5            |\n",
    "|Cairo |Egypt          |Summer  |27.7             |0.1            |\n",
    "|Cairo |Egypt          |Fall    |22.2             |4.5            |"
   ]
  },
  {
   "cell_type": "code",
   "execution_count": 122,
   "metadata": {},
   "outputs": [
    {
     "name": "stdout",
     "output_type": "stream",
     "text": [
      "The sql extension is already loaded. To reload it, use:\n",
      "  %reload_ext sql\n"
     ]
    }
   ],
   "source": [
    "%load_ext sql\n"
   ]
  },
  {
   "cell_type": "code",
   "execution_count": 123,
   "metadata": {},
   "outputs": [],
   "source": [
    "%sql sqlite://"
   ]
  },
  {
   "cell_type": "code",
   "execution_count": 77,
   "metadata": {},
   "outputs": [
    {
     "name": "stdout",
     "output_type": "stream",
     "text": [
      " * sqlite://\n",
      "Done.\n",
      "1 rows affected.\n",
      "1 rows affected.\n",
      "1 rows affected.\n",
      "1 rows affected.\n",
      "1 rows affected.\n",
      "1 rows affected.\n",
      "1 rows affected.\n",
      "1 rows affected.\n",
      "1 rows affected.\n",
      "1 rows affected.\n",
      "1 rows affected.\n",
      "1 rows affected.\n"
     ]
    },
    {
     "data": {
      "text/plain": [
       "[]"
      ]
     },
     "execution_count": 77,
     "metadata": {},
     "output_type": "execute_result"
    }
   ],
   "source": [
    "%%sql\n",
    "CREATE TABLE record(City varchar(50), Country varchar(50), Season varchar(50), Temperature int, Rainfall int);\n",
    "INSERT INTO record VALUES('Mumbai', 'India', 'Winter', '24.8', '5.9');\n",
    "INSERT INTO record VALUES('Mumbai', 'India', 'Spring', '28.4', '16.2');\n",
    "INSERT INTO record VALUES('Mumbai', 'India', 'Summer', '27.9', '1549.4');\n",
    "INSERT INTO record VALUES('Mumbai', 'India', 'Fall', '27.6', '346.0');\n",
    "INSERT INTO record VALUES('London', 'United Kingdon', 'Winter', '4.2', '207.7');\n",
    "INSERT INTO record VALUES('London', 'United Kingdon', 'Spring', '8.3', '169.6');\n",
    "INSERT INTO record VALUES('London', 'United Kingdon', 'Summer', '15.7', '157.0');\n",
    "INSERT INTO record VALUES('London', 'United Kingdon', 'Fall', '10.4', '218.5');\n",
    "INSERT INTO record VALUES('Cairo', 'Egypt', 'Winter', '13.6', '16.5');\n",
    "INSERT INTO record VALUES('Cairo', 'Egypt', 'Spring', '20.7', '6.5');\n",
    "INSERT INTO record VALUES('Cairo', 'Egypt', 'Summer', '27.7', '0.1');\n",
    "INSERT INTO record VALUES('Cairo', 'Egypt', 'Fall', '22.2', '4.5');"
   ]
  },
  {
   "cell_type": "code",
   "execution_count": 78,
   "metadata": {},
   "outputs": [
    {
     "name": "stdout",
     "output_type": "stream",
     "text": [
      " * sqlite://\n",
      "Done.\n"
     ]
    },
    {
     "data": {
      "text/html": [
       "<table>\n",
       "    <tr>\n",
       "        <th>City</th>\n",
       "        <th>Country</th>\n",
       "        <th>Season</th>\n",
       "        <th>Temperature</th>\n",
       "        <th>Rainfall</th>\n",
       "    </tr>\n",
       "    <tr>\n",
       "        <td>Mumbai</td>\n",
       "        <td>India</td>\n",
       "        <td>Winter</td>\n",
       "        <td>24.8</td>\n",
       "        <td>5.9</td>\n",
       "    </tr>\n",
       "    <tr>\n",
       "        <td>Mumbai</td>\n",
       "        <td>India</td>\n",
       "        <td>Spring</td>\n",
       "        <td>28.4</td>\n",
       "        <td>16.2</td>\n",
       "    </tr>\n",
       "    <tr>\n",
       "        <td>Mumbai</td>\n",
       "        <td>India</td>\n",
       "        <td>Summer</td>\n",
       "        <td>27.9</td>\n",
       "        <td>1549.4</td>\n",
       "    </tr>\n",
       "    <tr>\n",
       "        <td>Mumbai</td>\n",
       "        <td>India</td>\n",
       "        <td>Fall</td>\n",
       "        <td>27.6</td>\n",
       "        <td>346</td>\n",
       "    </tr>\n",
       "    <tr>\n",
       "        <td>London</td>\n",
       "        <td>United Kingdon</td>\n",
       "        <td>Winter</td>\n",
       "        <td>4.2</td>\n",
       "        <td>207.7</td>\n",
       "    </tr>\n",
       "    <tr>\n",
       "        <td>London</td>\n",
       "        <td>United Kingdon</td>\n",
       "        <td>Spring</td>\n",
       "        <td>8.3</td>\n",
       "        <td>169.6</td>\n",
       "    </tr>\n",
       "    <tr>\n",
       "        <td>London</td>\n",
       "        <td>United Kingdon</td>\n",
       "        <td>Summer</td>\n",
       "        <td>15.7</td>\n",
       "        <td>157</td>\n",
       "    </tr>\n",
       "    <tr>\n",
       "        <td>London</td>\n",
       "        <td>United Kingdon</td>\n",
       "        <td>Fall</td>\n",
       "        <td>10.4</td>\n",
       "        <td>218.5</td>\n",
       "    </tr>\n",
       "    <tr>\n",
       "        <td>Cairo</td>\n",
       "        <td>Egypt</td>\n",
       "        <td>Winter</td>\n",
       "        <td>13.6</td>\n",
       "        <td>16.5</td>\n",
       "    </tr>\n",
       "    <tr>\n",
       "        <td>Cairo</td>\n",
       "        <td>Egypt</td>\n",
       "        <td>Spring</td>\n",
       "        <td>20.7</td>\n",
       "        <td>6.5</td>\n",
       "    </tr>\n",
       "    <tr>\n",
       "        <td>Cairo</td>\n",
       "        <td>Egypt</td>\n",
       "        <td>Summer</td>\n",
       "        <td>27.7</td>\n",
       "        <td>0.1</td>\n",
       "    </tr>\n",
       "    <tr>\n",
       "        <td>Cairo</td>\n",
       "        <td>Egypt</td>\n",
       "        <td>Fall</td>\n",
       "        <td>22.2</td>\n",
       "        <td>4.5</td>\n",
       "    </tr>\n",
       "</table>"
      ],
      "text/plain": [
       "[('Mumbai', 'India', 'Winter', 24.8, 5.9),\n",
       " ('Mumbai', 'India', 'Spring', 28.4, 16.2),\n",
       " ('Mumbai', 'India', 'Summer', 27.9, 1549.4),\n",
       " ('Mumbai', 'India', 'Fall', 27.6, 346),\n",
       " ('London', 'United Kingdon', 'Winter', 4.2, 207.7),\n",
       " ('London', 'United Kingdon', 'Spring', 8.3, 169.6),\n",
       " ('London', 'United Kingdon', 'Summer', 15.7, 157),\n",
       " ('London', 'United Kingdon', 'Fall', 10.4, 218.5),\n",
       " ('Cairo', 'Egypt', 'Winter', 13.6, 16.5),\n",
       " ('Cairo', 'Egypt', 'Spring', 20.7, 6.5),\n",
       " ('Cairo', 'Egypt', 'Summer', 27.7, 0.1),\n",
       " ('Cairo', 'Egypt', 'Fall', 22.2, 4.5)]"
      ]
     },
     "execution_count": 78,
     "metadata": {},
     "output_type": "execute_result"
    }
   ],
   "source": [
    "%sql SELECT * FROM record;        #displaying table created"
   ]
  },
  {
   "cell_type": "code",
   "execution_count": 124,
   "metadata": {},
   "outputs": [
    {
     "name": "stdout",
     "output_type": "stream",
     "text": [
      " * sqlite://\n",
      "Done.\n"
     ]
    },
    {
     "data": {
      "text/html": [
       "<table>\n",
       "    <tr>\n",
       "        <th>Temperature</th>\n",
       "    </tr>\n",
       "    <tr>\n",
       "        <td>24.8</td>\n",
       "    </tr>\n",
       "    <tr>\n",
       "        <td>28.4</td>\n",
       "    </tr>\n",
       "    <tr>\n",
       "        <td>27.9</td>\n",
       "    </tr>\n",
       "    <tr>\n",
       "        <td>27.6</td>\n",
       "    </tr>\n",
       "    <tr>\n",
       "        <td>4.2</td>\n",
       "    </tr>\n",
       "    <tr>\n",
       "        <td>8.3</td>\n",
       "    </tr>\n",
       "    <tr>\n",
       "        <td>15.7</td>\n",
       "    </tr>\n",
       "    <tr>\n",
       "        <td>10.4</td>\n",
       "    </tr>\n",
       "    <tr>\n",
       "        <td>13.6</td>\n",
       "    </tr>\n",
       "    <tr>\n",
       "        <td>20.7</td>\n",
       "    </tr>\n",
       "    <tr>\n",
       "        <td>27.7</td>\n",
       "    </tr>\n",
       "    <tr>\n",
       "        <td>22.2</td>\n",
       "    </tr>\n",
       "</table>"
      ],
      "text/plain": [
       "[(24.8,),\n",
       " (28.4,),\n",
       " (27.9,),\n",
       " (27.6,),\n",
       " (4.2,),\n",
       " (8.3,),\n",
       " (15.7,),\n",
       " (10.4,),\n",
       " (13.6,),\n",
       " (20.7,),\n",
       " (27.7,),\n",
       " (22.2,)]"
      ]
     },
     "execution_count": 124,
     "metadata": {},
     "output_type": "execute_result"
    }
   ],
   "source": [
    "#a part - All the temperature data.\n",
    "\n",
    "%sql SELECT Temperature FROM record;"
   ]
  },
  {
   "cell_type": "code",
   "execution_count": 83,
   "metadata": {},
   "outputs": [
    {
     "name": "stdout",
     "output_type": "stream",
     "text": [
      " * sqlite://\n",
      "Done.\n"
     ]
    },
    {
     "data": {
      "text/html": [
       "<table>\n",
       "    <tr>\n",
       "        <th>City</th>\n",
       "    </tr>\n",
       "    <tr>\n",
       "        <td>Mumbai</td>\n",
       "    </tr>\n",
       "    <tr>\n",
       "        <td>London</td>\n",
       "    </tr>\n",
       "    <tr>\n",
       "        <td>Cairo</td>\n",
       "    </tr>\n",
       "</table>"
      ],
      "text/plain": [
       "[('Mumbai',), ('London',), ('Cairo',)]"
      ]
     },
     "execution_count": 83,
     "metadata": {},
     "output_type": "execute_result"
    }
   ],
   "source": [
    "#b part - All the cities, but without repetition.\n",
    "\n",
    "%sql SELECT DISTINCT City FROM record;"
   ]
  },
  {
   "cell_type": "code",
   "execution_count": 87,
   "metadata": {},
   "outputs": [
    {
     "name": "stdout",
     "output_type": "stream",
     "text": [
      " * sqlite://\n",
      "Done.\n"
     ]
    },
    {
     "data": {
      "text/html": [
       "<table>\n",
       "    <tr>\n",
       "        <th>City</th>\n",
       "        <th>Country</th>\n",
       "        <th>Season</th>\n",
       "        <th>Temperature</th>\n",
       "        <th>Rainfall</th>\n",
       "    </tr>\n",
       "    <tr>\n",
       "        <td>Mumbai</td>\n",
       "        <td>India</td>\n",
       "        <td>Winter</td>\n",
       "        <td>24.8</td>\n",
       "        <td>5.9</td>\n",
       "    </tr>\n",
       "    <tr>\n",
       "        <td>Mumbai</td>\n",
       "        <td>India</td>\n",
       "        <td>Spring</td>\n",
       "        <td>28.4</td>\n",
       "        <td>16.2</td>\n",
       "    </tr>\n",
       "    <tr>\n",
       "        <td>Mumbai</td>\n",
       "        <td>India</td>\n",
       "        <td>Summer</td>\n",
       "        <td>27.9</td>\n",
       "        <td>1549.4</td>\n",
       "    </tr>\n",
       "    <tr>\n",
       "        <td>Mumbai</td>\n",
       "        <td>India</td>\n",
       "        <td>Fall</td>\n",
       "        <td>27.6</td>\n",
       "        <td>346</td>\n",
       "    </tr>\n",
       "</table>"
      ],
      "text/plain": [
       "[('Mumbai', 'India', 'Winter', 24.8, 5.9),\n",
       " ('Mumbai', 'India', 'Spring', 28.4, 16.2),\n",
       " ('Mumbai', 'India', 'Summer', 27.9, 1549.4),\n",
       " ('Mumbai', 'India', 'Fall', 27.6, 346)]"
      ]
     },
     "execution_count": 87,
     "metadata": {},
     "output_type": "execute_result"
    }
   ],
   "source": [
    "#c part - All the records for India.\n",
    "\n",
    "%sql SELECT * FROM record WHERE Country = 'India';"
   ]
  },
  {
   "cell_type": "code",
   "execution_count": 88,
   "metadata": {},
   "outputs": [
    {
     "name": "stdout",
     "output_type": "stream",
     "text": [
      " * sqlite://\n",
      "Done.\n"
     ]
    },
    {
     "data": {
      "text/html": [
       "<table>\n",
       "    <tr>\n",
       "        <th>City</th>\n",
       "        <th>Country</th>\n",
       "        <th>Season</th>\n",
       "        <th>Temperature</th>\n",
       "        <th>Rainfall</th>\n",
       "    </tr>\n",
       "    <tr>\n",
       "        <td>Mumbai</td>\n",
       "        <td>India</td>\n",
       "        <td>Fall</td>\n",
       "        <td>27.6</td>\n",
       "        <td>346</td>\n",
       "    </tr>\n",
       "    <tr>\n",
       "        <td>London</td>\n",
       "        <td>United Kingdon</td>\n",
       "        <td>Fall</td>\n",
       "        <td>10.4</td>\n",
       "        <td>218.5</td>\n",
       "    </tr>\n",
       "    <tr>\n",
       "        <td>Cairo</td>\n",
       "        <td>Egypt</td>\n",
       "        <td>Fall</td>\n",
       "        <td>22.2</td>\n",
       "        <td>4.5</td>\n",
       "    </tr>\n",
       "</table>"
      ],
      "text/plain": [
       "[('Mumbai', 'India', 'Fall', 27.6, 346),\n",
       " ('London', 'United Kingdon', 'Fall', 10.4, 218.5),\n",
       " ('Cairo', 'Egypt', 'Fall', 22.2, 4.5)]"
      ]
     },
     "execution_count": 88,
     "metadata": {},
     "output_type": "execute_result"
    }
   ],
   "source": [
    "#d part - All the Fall records.\n",
    "\n",
    "%sql SELECT * FROM record WHERE Season = 'Fall';"
   ]
  },
  {
   "cell_type": "code",
   "execution_count": 89,
   "metadata": {},
   "outputs": [
    {
     "name": "stdout",
     "output_type": "stream",
     "text": [
      " * sqlite://\n",
      "Done.\n"
     ]
    },
    {
     "data": {
      "text/html": [
       "<table>\n",
       "    <tr>\n",
       "        <th>City</th>\n",
       "        <th>Country</th>\n",
       "        <th>Season</th>\n",
       "    </tr>\n",
       "    <tr>\n",
       "        <td>Mumbai</td>\n",
       "        <td>India</td>\n",
       "        <td>Fall</td>\n",
       "    </tr>\n",
       "    <tr>\n",
       "        <td>London</td>\n",
       "        <td>United Kingdon</td>\n",
       "        <td>Winter</td>\n",
       "    </tr>\n",
       "    <tr>\n",
       "        <td>London</td>\n",
       "        <td>United Kingdon</td>\n",
       "        <td>Fall</td>\n",
       "    </tr>\n",
       "</table>"
      ],
      "text/plain": [
       "[('Mumbai', 'India', 'Fall'),\n",
       " ('London', 'United Kingdon', 'Winter'),\n",
       " ('London', 'United Kingdon', 'Fall')]"
      ]
     },
     "execution_count": 89,
     "metadata": {},
     "output_type": "execute_result"
    }
   ],
   "source": [
    "#e part - The city, country, and season for which the average rainfall is between 200 and 400 millimeters.\n",
    "\n",
    "%sql SELECT City, Country, Season FROM record WHERE Rainfall BETWEEN 200 And 400;"
   ]
  },
  {
   "cell_type": "code",
   "execution_count": 92,
   "metadata": {},
   "outputs": [
    {
     "name": "stdout",
     "output_type": "stream",
     "text": [
      " * sqlite://\n",
      "Done.\n"
     ]
    },
    {
     "data": {
      "text/html": [
       "<table>\n",
       "    <tr>\n",
       "        <th>City</th>\n",
       "        <th>Country</th>\n",
       "    </tr>\n",
       "    <tr>\n",
       "        <td>Cairo</td>\n",
       "        <td>Egypt</td>\n",
       "    </tr>\n",
       "    <tr>\n",
       "        <td>Mumbai</td>\n",
       "        <td>India</td>\n",
       "    </tr>\n",
       "</table>"
      ],
      "text/plain": [
       "[('Cairo', 'Egypt'), ('Mumbai', 'India')]"
      ]
     },
     "execution_count": 92,
     "metadata": {},
     "output_type": "execute_result"
    }
   ],
   "source": [
    "#f part - The city and country for which the average Fall temperature is above 20 degrees, in increasing temperature order.\n",
    "\n",
    "%sql SELECT City, Country FROM record WHERE Season = 'Fall' AND Temperature >20 ORDER BY Temperature ASC;"
   ]
  },
  {
   "cell_type": "code",
   "execution_count": 93,
   "metadata": {},
   "outputs": [
    {
     "name": "stdout",
     "output_type": "stream",
     "text": [
      " * sqlite://\n",
      "Done.\n"
     ]
    },
    {
     "data": {
      "text/html": [
       "<table>\n",
       "    <tr>\n",
       "        <th>Sum(Rainfall)</th>\n",
       "    </tr>\n",
       "    <tr>\n",
       "        <td>27.6</td>\n",
       "    </tr>\n",
       "</table>"
      ],
      "text/plain": [
       "[(27.6,)]"
      ]
     },
     "execution_count": 93,
     "metadata": {},
     "output_type": "execute_result"
    }
   ],
   "source": [
    "#g part - The total annual rainfall for Cairo.\n",
    "\n",
    "%sql SELECT Sum(Rainfall) FROM record WHERE City='Cairo';"
   ]
  },
  {
   "cell_type": "code",
   "execution_count": 94,
   "metadata": {},
   "outputs": [
    {
     "name": "stdout",
     "output_type": "stream",
     "text": [
      " * sqlite://\n",
      "Done.\n"
     ]
    },
    {
     "data": {
      "text/html": [
       "<table>\n",
       "    <tr>\n",
       "        <th>Season</th>\n",
       "        <th>Sum(Rainfall)</th>\n",
       "    </tr>\n",
       "    <tr>\n",
       "        <td>Fall</td>\n",
       "        <td>569.0</td>\n",
       "    </tr>\n",
       "    <tr>\n",
       "        <td>Spring</td>\n",
       "        <td>192.29999999999998</td>\n",
       "    </tr>\n",
       "    <tr>\n",
       "        <td>Summer</td>\n",
       "        <td>1706.5</td>\n",
       "    </tr>\n",
       "    <tr>\n",
       "        <td>Winter</td>\n",
       "        <td>230.1</td>\n",
       "    </tr>\n",
       "</table>"
      ],
      "text/plain": [
       "[('Fall', 569.0),\n",
       " ('Spring', 192.29999999999998),\n",
       " ('Summer', 1706.5),\n",
       " ('Winter', 230.1)]"
      ]
     },
     "execution_count": 94,
     "metadata": {},
     "output_type": "execute_result"
    }
   ],
   "source": [
    "#h part - The total rainfall for each season.\n",
    "%sql SELECT Season, Sum(Rainfall) FROM record GROUP BY Season;"
   ]
  },
  {
   "cell_type": "markdown",
   "metadata": {},
   "source": [
    "## question 10\n",
    "\n",
    "Suppose list words is defined as follows:\n",
    "\n",
    "words = ['The', 'quick', 'brown', 'fox', 'jumps', 'over', 'the', 'lazy', 'dog']\n",
    "\n",
    "Write list comprehension expressions that use list words and generate the following lists:\n",
    "\n",
    "a) in Upper case letters\n",
    "\n",
    "b) in lower case letters\n",
    "\n",
    "c) the list of lengths of words in list words\n",
    "\n",
    "d) the list containing a list for every word of list words, where each list contains the word in uppercase and lowercase and the length of the word\n",
    "\n",
    "e) the list of words in list words containing 4 or more characters."
   ]
  },
  {
   "cell_type": "code",
   "execution_count": 97,
   "metadata": {},
   "outputs": [
    {
     "name": "stdout",
     "output_type": "stream",
     "text": [
      "['THE', 'QUICK', 'BROWN', 'FOX', 'JUMPS', 'OVER', 'THE', 'LAZY', 'DOG']\n"
     ]
    }
   ],
   "source": [
    "list = ['The', 'quick', 'brown', 'fox', 'jumps', 'over', 'the', 'lazy', 'dog']\n",
    "\n",
    "#a part -  in Upper case letters\n",
    "\n",
    "UpperList = [word.upper() for word in list]\n",
    "print(UpperList)"
   ]
  },
  {
   "cell_type": "code",
   "execution_count": 100,
   "metadata": {},
   "outputs": [
    {
     "name": "stdout",
     "output_type": "stream",
     "text": [
      "['the', 'quick', 'brown', 'fox', 'jumps', 'over', 'the', 'lazy', 'dog']\n"
     ]
    }
   ],
   "source": [
    "#b part - in lower case letters\n",
    "\n",
    "LowerList = [word.lower() for word in list]\n",
    "print(LowerList)"
   ]
  },
  {
   "cell_type": "code",
   "execution_count": 102,
   "metadata": {},
   "outputs": [
    {
     "name": "stdout",
     "output_type": "stream",
     "text": [
      "[3, 5, 5, 3, 5, 4, 3, 4, 3]\n"
     ]
    }
   ],
   "source": [
    "#c part - the list of lengths of words in list words\n",
    "\n",
    "LengthList = [ len(word) for word in list]\n",
    "print(LengthList)"
   ]
  },
  {
   "cell_type": "code",
   "execution_count": 103,
   "metadata": {},
   "outputs": [
    {
     "name": "stdout",
     "output_type": "stream",
     "text": [
      "[['THE', 'the', 3], ['QUICK', 'quick', 5], ['BROWN', 'brown', 5], ['FOX', 'fox', 3], ['JUMPS', 'jumps', 5], ['OVER', 'over', 4], ['THE', 'the', 3], ['LAZY', 'lazy', 4], ['DOG', 'dog', 3]]\n"
     ]
    }
   ],
   "source": [
    "#d part - the list containing a list for every word of list words, where each list contains the word \n",
    "# in uppercase and lowercase and the length of the word\n",
    "\n",
    "LIST = [ [word.upper(), word.lower(), len(word)] for word in list]\n",
    "print(LIST)"
   ]
  },
  {
   "cell_type": "code",
   "execution_count": 125,
   "metadata": {},
   "outputs": [
    {
     "name": "stdout",
     "output_type": "stream",
     "text": [
      "['quick', 'brown', 'jumps', 'over', 'lazy']\n"
     ]
    }
   ],
   "source": [
    "#e part -  the list of words in list words containing 4 or more characters\n",
    "\n",
    "list4words = [word for word in list if len(word)>= 4]\n",
    "print(list4words)"
   ]
  },
  {
   "cell_type": "code",
   "execution_count": null,
   "metadata": {},
   "outputs": [],
   "source": []
  }
 ],
 "metadata": {
  "kernelspec": {
   "display_name": "Python 3",
   "language": "python",
   "name": "python3"
  },
  "language_info": {
   "codemirror_mode": {
    "name": "ipython",
    "version": 3
   },
   "file_extension": ".py",
   "mimetype": "text/x-python",
   "name": "python",
   "nbconvert_exporter": "python",
   "pygments_lexer": "ipython3",
   "version": "3.8.3"
  }
 },
 "nbformat": 4,
 "nbformat_minor": 4
}
